{
 "cells": [
  {
   "cell_type": "code",
   "execution_count": null,
   "id": "ef6fc833-1183-4ebe-a8ce-4b7eaac218b3",
   "metadata": {},
   "outputs": [],
   "source": [
    "# Probability\n",
    "\n",
    "# Keywords :  Odds, Proportions, Joint Probabaility, Union Probability, Dependent, Independent, Mutually exclusive or not, Probability Density Functions,\n",
    "# Probability Mass functions, Cummulative Density Functions, Cummulative Mass Functions."
   ]
  },
  {
   "cell_type": "code",
   "execution_count": null,
   "id": "d665ee65-bae4-4963-a611-fc0564dd8581",
   "metadata": {},
   "outputs": [],
   "source": [
    "# Topics :\n",
    "\n",
    "# 1. Odds of a probability / Proportions of a probability which means 7:3 and 0.7 respectively\n",
    "# 2. Probability is purely theoritical of how likely an event is to happen and doesn't require data whereas\n",
    "# Statistics on the other hand cannot exist without data and uses it to discover probability and provides tools to describe data.\n",
    "\n",
    "\n",
    "# Joint probability : P( A and B )\n",
    "\n",
    "# Union probability : P( A or B ) \n",
    "# In Union probability for non mutually exclusive events the logical way is to remove double counting by subtracting joint probability\n",
    "\n",
    "# Always generalise the event to be non mutually exclusive and be ready to remove double counting incase of union probability.\n",
    "# Remember the formula for non mutually exclusive and then remove the joint probability if it is mutually exclusive\n",
    "# Remember The generalised formula for Joint probability and Union probability regardless of event\n",
    "\n",
    "\n",
    "# Conditional probability : P( A / B ) literally called probability of event A given event B has occured.\n",
    "# P( A / B ) and P( B / A ) are not same\n",
    "# The direction of condition matters like A / B or is it B / A.\n",
    "# You can flip the probabilites using bayes theoram which is P( A / B ) = P( B / A )*P( A )/   P(B)\n",
    "# P( B / A ) = P( B ) means that event A has literally no effect on how likely event B is to occur\n",
    "# let's generalise again regardless of whether two events are dependent\n",
    "# P( A and B ) = P( B ) * P( A / B )\n",
    "# P( A or B ) = P( A ) + P( B ) - P( A / B )* P( B )\n",
    "# These two formulas work regardless of the events to be mutually exclusive or dependent\n",
    "\n",
    "\n",
    "# Probability mass function\n",
    "# Binomial distribution : What do you when your focus is not just to get a success but k number of success out of n trails..that is called binomial distribution given there is p probability for each success.\n",
    "\n",
    "\n",
    "# Probablity density function\n",
    "# Beta Distribution \n",
    "# \n",
    "\n"
   ]
  },
  {
   "cell_type": "code",
   "execution_count": 2,
   "id": "233df4d9-8ad8-4068-8689-02a4375d5bf2",
   "metadata": {},
   "outputs": [
    {
     "name": "stdout",
     "output_type": "stream",
     "text": [
      "0 - 9.999999999999981e-11\n",
      "1 - 8.999999999999986e-09\n",
      "2 - 3.644999999999997e-07\n",
      "3 - 8.747999999999995e-06\n",
      "4 - 0.00013778099999999982\n",
      "5 - 0.0014880347999999988\n",
      "6 - 0.011160261000000001\n",
      "7 - 0.05739562799999998\n",
      "8 - 0.1937102445\n",
      "9 - 0.387420489\n",
      "10 - 0.3486784401000001\n"
     ]
    }
   ],
   "source": [
    "#Binomial Distribution\n",
    "\n",
    "from scipy.stats import binom\n",
    "\n",
    "n = 10 \n",
    "p = 0.9\n",
    "\n",
    "for k in range(n + 1):\n",
    "    probability = binom.pmf(k, n, p)\n",
    "    print(\"{0} - {1}\" . format( k, probability))"
   ]
  },
  {
   "cell_type": "code",
   "execution_count": 4,
   "id": "1732608d-adda-4aa9-b2b7-4cd356142bbd",
   "metadata": {},
   "outputs": [
    {
     "name": "stdout",
     "output_type": "stream",
     "text": [
      "0.13163577484183697\n"
     ]
    }
   ],
   "source": [
    "# Beta Distribution\n",
    "\n",
    "from scipy.stats import beta\n",
    "\n",
    "a = 30\n",
    "b = 6\n",
    "\n",
    "p = 1.0 - beta.cdf(.90, a, b)\n",
    "print(p)"
   ]
  },
  {
   "cell_type": "code",
   "execution_count": 5,
   "id": "b55531ec-e393-427a-b171-82e11dc433d0",
   "metadata": {},
   "outputs": [
    {
     "name": "stdout",
     "output_type": "stream",
     "text": [
      "0.33863336199999994\n"
     ]
    }
   ],
   "source": [
    "a = 8\n",
    "b = 2\n",
    "\n",
    "p = beta.cdf(.90, a, b) - beta.cdf(.80, a, b)\n",
    "print(p)"
   ]
  },
  {
   "cell_type": "code",
   "execution_count": null,
   "id": "e6cd366b-bfb8-445e-84c7-150aa0f68c46",
   "metadata": {},
   "outputs": [],
   "source": []
  }
 ],
 "metadata": {
  "kernelspec": {
   "display_name": "Python 3 (ipykernel)",
   "language": "python",
   "name": "python3"
  },
  "language_info": {
   "codemirror_mode": {
    "name": "ipython",
    "version": 3
   },
   "file_extension": ".py",
   "mimetype": "text/x-python",
   "name": "python",
   "nbconvert_exporter": "python",
   "pygments_lexer": "ipython3",
   "version": "3.11.5"
  }
 },
 "nbformat": 4,
 "nbformat_minor": 5
}
